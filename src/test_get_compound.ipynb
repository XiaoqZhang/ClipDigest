{
 "cells": [
  {
   "cell_type": "code",
   "execution_count": 44,
   "metadata": {},
   "outputs": [],
   "source": [
    "import pubchempy as pcp\n",
    "import pandas as pd\n",
    "from get_compound import get_pubchem_df"
   ]
  },
  {
   "cell_type": "code",
   "execution_count": 45,
   "metadata": {},
   "outputs": [],
   "source": [
    "compounds = ['Nitrous oxide (CID 948)', 'Hydroxyl-terminated polybutadiene (CID 441305)']\n",
    "df = get_pubchem_df(compounds)"
   ]
  },
  {
   "cell_type": "code",
   "execution_count": 46,
   "metadata": {},
   "outputs": [
    {
     "data": {
      "text/html": [
       "<div>\n",
       "<style scoped>\n",
       "    .dataframe tbody tr th:only-of-type {\n",
       "        vertical-align: middle;\n",
       "    }\n",
       "\n",
       "    .dataframe tbody tr th {\n",
       "        vertical-align: top;\n",
       "    }\n",
       "\n",
       "    .dataframe thead th {\n",
       "        text-align: right;\n",
       "    }\n",
       "</style>\n",
       "<table border=\"1\" class=\"dataframe\">\n",
       "  <thead>\n",
       "    <tr style=\"text-align: right;\">\n",
       "      <th></th>\n",
       "      <th>label</th>\n",
       "      <th>iupac</th>\n",
       "      <th>link</th>\n",
       "      <th>SMILES</th>\n",
       "    </tr>\n",
       "  </thead>\n",
       "  <tbody>\n",
       "    <tr>\n",
       "      <th>0</th>\n",
       "      <td>Nitrous oxide (CID 948)</td>\n",
       "      <td>nitrous oxide</td>\n",
       "      <td>https://pubchem.ncbi.nlm.nih.gov/compound/948</td>\n",
       "      <td>[N-]=[N+]=O</td>\n",
       "    </tr>\n",
       "    <tr>\n",
       "      <th>1</th>\n",
       "      <td>Hydroxyl-terminated polybutadiene (CID 441305)</td>\n",
       "      <td>(2R,3R,4R,5R)-2-[(1S,2S,3R,4S,6R)-4,6-diamino-...</td>\n",
       "      <td>https://pubchem.ncbi.nlm.nih.gov/compound/441305</td>\n",
       "      <td>CC([C@@H]1CC[C@H]([C@H](O1)O[C@@H]2[C@H](C[C@H...</td>\n",
       "    </tr>\n",
       "  </tbody>\n",
       "</table>\n",
       "</div>"
      ],
      "text/plain": [
       "                                            label  \\\n",
       "0                         Nitrous oxide (CID 948)   \n",
       "1  Hydroxyl-terminated polybutadiene (CID 441305)   \n",
       "\n",
       "                                               iupac  \\\n",
       "0                                      nitrous oxide   \n",
       "1  (2R,3R,4R,5R)-2-[(1S,2S,3R,4S,6R)-4,6-diamino-...   \n",
       "\n",
       "                                               link  \\\n",
       "0     https://pubchem.ncbi.nlm.nih.gov/compound/948   \n",
       "1  https://pubchem.ncbi.nlm.nih.gov/compound/441305   \n",
       "\n",
       "                                              SMILES  \n",
       "0                                        [N-]=[N+]=O  \n",
       "1  CC([C@@H]1CC[C@H]([C@H](O1)O[C@@H]2[C@H](C[C@H...  "
      ]
     },
     "execution_count": 46,
     "metadata": {},
     "output_type": "execute_result"
    }
   ],
   "source": [
    "df"
   ]
  },
  {
   "cell_type": "code",
   "execution_count": null,
   "metadata": {},
   "outputs": [],
   "source": []
  }
 ],
 "metadata": {
  "kernelspec": {
   "display_name": "llm",
   "language": "python",
   "name": "python3"
  },
  "language_info": {
   "codemirror_mode": {
    "name": "ipython",
    "version": 3
   },
   "file_extension": ".py",
   "mimetype": "text/x-python",
   "name": "python",
   "nbconvert_exporter": "python",
   "pygments_lexer": "ipython3",
   "version": "3.8.16"
  },
  "orig_nbformat": 4
 },
 "nbformat": 4,
 "nbformat_minor": 2
}
