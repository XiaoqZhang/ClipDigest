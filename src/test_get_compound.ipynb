{
 "cells": [
  {
   "cell_type": "code",
   "execution_count": 1,
   "metadata": {},
   "outputs": [],
   "source": [
    "import pubchempy as pcp\n",
    "import pandas as pd\n",
    "from clipdigest.get_compound import get_pubchem_df, chem"
   ]
  },
  {
   "cell_type": "code",
   "execution_count": 2,
   "metadata": {},
   "outputs": [],
   "source": [
    "test = \"Commonly known as “Quaaludes,” methaqualone (1) is a sedative–hypnotic medication, with effects resembling barbiturates and other downers, that exerts its effects through modulation of gamma-aminobutyric acid type A receptors (GABAAR). Following the discovery of the sedative and euphoric effects of methaqualone (1), it was quickly adopted by pharmaceutical companies and promoted by clinicians around the world as a “safe” sleeping pill option, and for a period it was available over the counter. The popularity of methaqualone (1) soared worldwide, and many people began to use it recreationally for its sedative–hypnotic-like psychoactive effects. Not long after its introduction, many individuals began to misuse the drug leading to overdoses and drug dependence which brought to light methaqualone’s (1) addictive nature. In this review, the background, synthesis, pharmacology, metabolism, and pharmacokinetics of methaqualone (1) will be covered along with its discovery, history, and the derivatives that are currently available around the world through manufacture in clandestine laboratories.\""
   ]
  },
  {
   "cell_type": "code",
   "execution_count": 3,
   "metadata": {},
   "outputs": [
    {
     "name": "stderr",
     "output_type": "stream",
     "text": [
      "2023-03-30 10:53:36.460 | DEBUG    | clipdigest.get_compound:chem:15 - The chemical compounds found: ['methaqualone', 'methaqualone', 'methaqualone', 'methaqualone', 'gamma-aminobutyric acid', 'methaqualone']\n"
     ]
    }
   ],
   "source": [
    "df = chem(test)"
   ]
  },
  {
   "cell_type": "code",
   "execution_count": 4,
   "metadata": {},
   "outputs": [
    {
     "data": {
      "text/html": [
       "<div>\n",
       "<style scoped>\n",
       "    .dataframe tbody tr th:only-of-type {\n",
       "        vertical-align: middle;\n",
       "    }\n",
       "\n",
       "    .dataframe tbody tr th {\n",
       "        vertical-align: top;\n",
       "    }\n",
       "\n",
       "    .dataframe thead th {\n",
       "        text-align: right;\n",
       "    }\n",
       "</style>\n",
       "<table border=\"1\" class=\"dataframe\">\n",
       "  <thead>\n",
       "    <tr style=\"text-align: right;\">\n",
       "      <th></th>\n",
       "      <th>label</th>\n",
       "      <th>iupac</th>\n",
       "      <th>link</th>\n",
       "      <th>SMILES</th>\n",
       "    </tr>\n",
       "  </thead>\n",
       "  <tbody>\n",
       "    <tr>\n",
       "      <th>0</th>\n",
       "      <td>methaqualone</td>\n",
       "      <td>2-methyl-3-(2-methylphenyl)quinazolin-4-one</td>\n",
       "      <td>https://pubchem.ncbi.nlm.nih.gov/compound/6292</td>\n",
       "      <td>CC1=CC=CC=C1N2C(=NC3=CC=CC=C3C2=O)C</td>\n",
       "    </tr>\n",
       "    <tr>\n",
       "      <th>1</th>\n",
       "      <td>gamma-aminobutyric acid</td>\n",
       "      <td>4-aminobutanoic acid</td>\n",
       "      <td>https://pubchem.ncbi.nlm.nih.gov/compound/119</td>\n",
       "      <td>C(CC(=O)O)CN</td>\n",
       "    </tr>\n",
       "  </tbody>\n",
       "</table>\n",
       "</div>"
      ],
      "text/plain": [
       "                     label                                        iupac  \\\n",
       "0             methaqualone  2-methyl-3-(2-methylphenyl)quinazolin-4-one   \n",
       "1  gamma-aminobutyric acid                         4-aminobutanoic acid   \n",
       "\n",
       "                                             link  \\\n",
       "0  https://pubchem.ncbi.nlm.nih.gov/compound/6292   \n",
       "1   https://pubchem.ncbi.nlm.nih.gov/compound/119   \n",
       "\n",
       "                                SMILES  \n",
       "0  CC1=CC=CC=C1N2C(=NC3=CC=CC=C3C2=O)C  \n",
       "1                         C(CC(=O)O)CN  "
      ]
     },
     "execution_count": 4,
     "metadata": {},
     "output_type": "execute_result"
    }
   ],
   "source": [
    "df"
   ]
  },
  {
   "cell_type": "code",
   "execution_count": null,
   "metadata": {},
   "outputs": [],
   "source": []
  }
 ],
 "metadata": {
  "kernelspec": {
   "display_name": "llm",
   "language": "python",
   "name": "python3"
  },
  "language_info": {
   "codemirror_mode": {
    "name": "ipython",
    "version": 3
   },
   "file_extension": ".py",
   "mimetype": "text/x-python",
   "name": "python",
   "nbconvert_exporter": "python",
   "pygments_lexer": "ipython3",
   "version": "3.8.16"
  },
  "orig_nbformat": 4
 },
 "nbformat": 4,
 "nbformat_minor": 2
}
