{
 "cells": [
  {
   "cell_type": "code",
   "execution_count": 18,
   "metadata": {},
   "outputs": [],
   "source": [
    "#import all modules\n",
    "\n",
    "from pytube import YouTube\n",
    "import whisper"
   ]
  },
  {
   "cell_type": "code",
   "execution_count": 19,
   "metadata": {},
   "outputs": [
    {
     "name": "stderr",
     "output_type": "stream",
     "text": [
      "/Users/sauradeepmajumdar/miniconda3/envs/llm/lib/python3.9/site-packages/whisper/transcribe.py:114: UserWarning: FP16 is not supported on CPU; using FP32 instead\n",
      "  warnings.warn(\"FP16 is not supported on CPU; using FP32 instead\")\n"
     ]
    },
    {
     "name": "stdout",
     "output_type": "stream",
     "text": [
      " Hello everyone, wondering what I'm holding in my hands? Well, this is a class of crystalline nanomaterials called Moves. These materials are considered to be some of the most promising ones for applications that are capturing CO2 and thereby combating climate change. In my research, I studied these materials using computational techniques and tried to find out the best ones out of millions of possibilities for giving applications. Thank you.\n"
     ]
    }
   ],
   "source": [
    "#Insert youtube link :\n",
    "link1='https://www.youtube.com/watch?v=S8LVtrVAD8M'\n",
    "try:\n",
    "    yt=YouTube(link1)\n",
    "except:\n",
    "    print('Connection error')\n",
    "\n",
    "yt.streams.filter(file_extension='mp4')\n",
    "stream=yt.streams.get_by_itag(139)\n",
    "stream.download('',\"audio.mp4\")\n",
    "\n",
    "#Now use the whisper model of OpenAI to transcribe the text of your video\n",
    "model=whisper.load_model('base')\n",
    "result=model.transcribe('audio.mp4')\n",
    "print(result['text'])"
   ]
  },
  {
   "attachments": {},
   "cell_type": "markdown",
   "metadata": {},
   "source": [
    "#### The above transcripted text now becomes an input for GPT"
   ]
  },
  {
   "cell_type": "code",
   "execution_count": 20,
   "metadata": {},
   "outputs": [
    {
     "name": "stderr",
     "output_type": "stream",
     "text": [
      "2023-03-29 18:25:00.536 | DEBUG    | __main__:<module>:12 - Starting time: 18:25:00\n",
      "2023-03-29 18:25:00.538 | DEBUG    | __main__:<module>:19 - End time: 18:25:00\n",
      "2023-03-29 18:25:00.540 | INFO     | __main__:<module>:21 -  Hello everyone, wondering what I'm holding in my hands? Well, this is a class of crystalline nanomaterials called Moves. These materials are considered to be some of the most promising ones for applications that are capturing CO2 and thereby combating climate change. In my research, I studied these materials using computational techniques and tried to find out the best ones out of millions of possibilities for giving applications. Thank you.\n",
      "2023-03-29 18:25:00.541 | DEBUG    | __main__:<module>:28 - The input msg for chatGPT is: Give a summary of ' Hello everyone, wondering what I'm holding in my hands? Well, this is a class of crystalline nanomaterials called Moves. These materials are considered to be some of the most promising ones for applications that are capturing CO2 and thereby combating climate change. In my research, I studied these materials using computational techniques and tried to find out the best ones out of millions of possibilities for giving applications. Thank you.'\n",
      "2023-03-29 18:25:05.208 | INFO     | __main__:<module>:38 - Summary: The speaker is showcasing a type of crystalline nanomaterials called Moves, which have the potential to capture CO2 and help combat climate change. The speaker conducted research using computational techniques to identify the best performing Moves for practical applications.\n",
      "2023-03-29 18:25:21.628 | INFO     | __main__:<module>:49 - Questions: \n",
      " 1. Can you explain in more detail how Moves can capture CO2 and combat climate change?\n",
      "\n",
      "2. What computational techniques did you use in your research to study the Moves?\n",
      "\n",
      "3. How many different moves did you study during your research? \n",
      "\n",
      "4. Were there any surprising findings during your research on Moves?\n",
      "\n",
      "5. Can you discuss some of the specific applications where Moves can be used to capture CO2? \n",
      "\n",
      "6. How do Moves compare to other materials in terms of capturing CO2?\n",
      "\n",
      "7. Are there any upcoming developments or research in the field of Moves that we should be aware of? \n",
      "\n",
      "8. How difficult was it to narrow down millions of possibilities of Moves to find the best ones for giving applications? \n",
      "\n",
      "9. Is there a chance that Moves can be used in other applications besides combating climate change? \n",
      "\n",
      "10. What do you think is the future of Moves and their role in the fight against climate change?\n"
     ]
    }
   ],
   "source": [
    "import whisper\n",
    "import time\n",
    "import os\n",
    "import sys\n",
    "import openai\n",
    "from loguru import logger\n",
    "\n",
    "openai.api_key=os.environ[\"OPENAI_API_KEY\"] \n",
    "\n",
    "t = time.localtime()\n",
    "current_time = time.strftime(\"%H:%M:%S\", t)\n",
    "logger.debug(f\"Starting time: {current_time}\")\n",
    "\n",
    "# model = whisper.load_model('base')\n",
    "# result = model.transcribe('../data/vovo.wav', fp16=False)\n",
    "\n",
    "t = time.localtime()\n",
    "current_time = time.strftime(\"%H:%M:%S\", t)\n",
    "logger.debug(f\"End time: {current_time}\")\n",
    "\n",
    "logger.info(result['text'])\n",
    "\n",
    "messages = [\n",
    "        {\"role\": \"system\", \"content\": \"You are a helpful assistant.\"},\n",
    "]\n",
    "\n",
    "message = \"Give a summary of '%s'\" %result['text']\n",
    "logger.debug(f\"The input msg for chatGPT is: {message}\")\n",
    "while message:\n",
    "    messages.append(\n",
    "            {\"role\": \"user\", \"content\": message},\n",
    "    )\n",
    "    chat_completion = openai.ChatCompletion.create(\n",
    "            model=\"gpt-3.5-turbo\",\n",
    "            messages=messages\n",
    "    )\n",
    "    answer = chat_completion.choices[0].message.content\n",
    "    logger.info(f\"Summary: {answer}\")\n",
    "    \n",
    "    message = \"Come up with questions for '%s'\" %result['text']\n",
    "    messages.append(\n",
    "            {\"role\": \"user\", \"content\": message},\n",
    "    )\n",
    "    chat_completion = openai.ChatCompletion.create(\n",
    "            model=\"gpt-3.5-turbo\",\n",
    "            messages=messages\n",
    "    )\n",
    "    answer = chat_completion.choices[0].message.content\n",
    "    logger.info(f\"Questions: \\n {answer}\")\n",
    "\n",
    "    message = False"
   ]
  },
  {
   "cell_type": "code",
   "execution_count": null,
   "metadata": {},
   "outputs": [],
   "source": []
  }
 ],
 "metadata": {
  "kernelspec": {
   "display_name": "llm",
   "language": "python",
   "name": "python3"
  },
  "language_info": {
   "codemirror_mode": {
    "name": "ipython",
    "version": 3
   },
   "file_extension": ".py",
   "mimetype": "text/x-python",
   "name": "python",
   "nbconvert_exporter": "python",
   "pygments_lexer": "ipython3",
   "version": "3.9.16"
  },
  "orig_nbformat": 4
 },
 "nbformat": 4,
 "nbformat_minor": 2
}
